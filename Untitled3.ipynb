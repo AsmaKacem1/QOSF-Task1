{
 "cells": [
  {
   "cell_type": "code",
   "execution_count": 8,
   "metadata": {},
   "outputs": [
    {
     "name": "stdout",
     "output_type": "stream",
     "text": [
      "3\n",
      "2\n",
      "4\n",
      "2\n",
      "[0, 10]\n"
     ]
    }
   ],
   "source": [
    "from qiskit import *\n",
    "m=int(input())\n",
    "L=[]\n",
    "for i in range(m):\n",
    "    x=int(input())\n",
    "    x=int(bin(x)[2:])  \n",
    "    L.append(x)\n",
    "new=0\n",
    "def Alternating(n):\n",
    "        new = n&1\n",
    "        n = n >> 1\n",
    "        while(n > 0):\n",
    "            if(new == (n&1)):\n",
    "                return False\n",
    "            \n",
    "            new = n&1\n",
    "            n = n >> 1\n",
    "        \n",
    "        return True\n",
    "NewL=[]\n",
    "t=0\n",
    "u=0\n",
    "for i in range(len(L)):\n",
    "    if (Alternating(L[i])==True):\n",
    "        u=u+1\n",
    "        t=int(bin(i)[2:])  \n",
    "        NewL.append(t)\n",
    "print(NewL)\n",
    "q=QuantumRegister(u)\n",
    "c=ClassicalRegister(u)\n",
    "qc=QuantumCircuit(q,c)"
   ]
  },
  {
   "cell_type": "code",
   "execution_count": null,
   "metadata": {},
   "outputs": [],
   "source": []
  },
  {
   "cell_type": "code",
   "execution_count": null,
   "metadata": {},
   "outputs": [],
   "source": []
  }
 ],
 "metadata": {
  "kernelspec": {
   "display_name": "Python 3",
   "language": "python",
   "name": "python3"
  },
  "language_info": {
   "codemirror_mode": {
    "name": "ipython",
    "version": 3
   },
   "file_extension": ".py",
   "mimetype": "text/x-python",
   "name": "python",
   "nbconvert_exporter": "python",
   "pygments_lexer": "ipython3",
   "version": "3.8.3"
  }
 },
 "nbformat": 4,
 "nbformat_minor": 4
}
